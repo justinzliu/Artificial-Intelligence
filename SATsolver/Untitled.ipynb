{
 "cells": [
  {
   "cell_type": "code",
   "execution_count": 1,
   "metadata": {},
   "outputs": [
    {
     "name": "stdout",
     "output_type": "stream",
     "text": [
      "[[1, 3, 6]]\n"
     ]
    }
   ],
   "source": [
    "remove = [[1,2,3],[5,6,8]]\n",
    "clauses = [[1,3,6],[5,6,8],[1,2,3]]\n",
    "for clause in remove:\n",
    "    clauses.remove(clause)\n",
    "print(clauses)"
   ]
  },
  {
   "cell_type": "code",
   "execution_count": 11,
   "metadata": {},
   "outputs": [
    {
     "name": "stdout",
     "output_type": "stream",
     "text": [
      "('comparing:', 1, 'to', [1, 3, 6])\n",
      "('comparing:', 3, 'to', [1, 3, 6])\n",
      "('comparing:', 6, 'to', [1, 3, 6])\n",
      "('removing clause:', [1, 3, 6])\n",
      "('comparing:', 1, 'to', [1, 2, 3])\n",
      "('comparing:', 2, 'to', [1, 2, 3])\n",
      "('comparing:', 3, 'to', [1, 2, 3])\n",
      "[[5, 6, 8], [1, 2, 3]]\n"
     ]
    }
   ],
   "source": [
    "clauses = [[1,3,6],[5,6,8],[1,2,3]]\n",
    "assignment = {6}\n",
    "for clause in clauses:\n",
    "    for literal in clause:\n",
    "        print(\"comparing:\",literal,\"to\",clause)\n",
    "        if literal in assignment:\n",
    "            print(\"removing clause:\",clause)\n",
    "            clauses.remove(clause)\n",
    "            break\n",
    "print(clauses)"
   ]
  },
  {
   "cell_type": "code",
   "execution_count": 1,
   "metadata": {},
   "outputs": [
    {
     "name": "stdout",
     "output_type": "stream",
     "text": [
      "set([1, 2, 3])\n",
      "set([1, 2])\n"
     ]
    }
   ],
   "source": [
    "def foo(x):\n",
    "    print(x)\n",
    "s = {1,2}\n",
    "s2 = 3\n",
    "foo(s | {s2})\n",
    "print(s)"
   ]
  },
  {
   "cell_type": "code",
   "execution_count": null,
   "metadata": {},
   "outputs": [],
   "source": []
  }
 ],
 "metadata": {
  "kernelspec": {
   "display_name": "Python 2",
   "language": "python",
   "name": "python2"
  },
  "language_info": {
   "codemirror_mode": {
    "name": "ipython",
    "version": 2
   },
   "file_extension": ".py",
   "mimetype": "text/x-python",
   "name": "python",
   "nbconvert_exporter": "python",
   "pygments_lexer": "ipython2",
   "version": "2.7.16"
  }
 },
 "nbformat": 4,
 "nbformat_minor": 2
}
