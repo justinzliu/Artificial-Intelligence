{
 "cells": [
  {
   "cell_type": "code",
   "execution_count": 1,
   "metadata": {},
   "outputs": [
    {
     "name": "stdout",
     "output_type": "stream",
     "text": [
      "[(1, 0)]\n",
      "chair\n"
     ]
    }
   ],
   "source": [
    "visited = [['apple','banana','kiwi'],['chair','table','spoon']]\n",
    "sCoor = \"chair\"\n",
    "VIndex = [(ind, visited[ind].index(sCoor)) for ind in xrange(len(visited)) if sCoor in visited[ind]]\n",
    "print(VIndex)\n",
    "\n",
    "print(visited[int(VIndex[0][0])][int(VIndex[0][1])])"
   ]
  },
  {
   "cell_type": "code",
   "execution_count": 7,
   "metadata": {},
   "outputs": [
    {
     "name": "stdout",
     "output_type": "stream",
     "text": [
      "('x', 'y')\n"
     ]
    }
   ],
   "source": [
    "state = [(\"x\",\"y\")]\n",
    "x,y = state[0]\n",
    "print(x,y)"
   ]
  },
  {
   "cell_type": "code",
   "execution_count": 12,
   "metadata": {},
   "outputs": [
    {
     "name": "stdout",
     "output_type": "stream",
     "text": [
      "[(15, 0), (8, 1), (12, 2)]\n",
      "(8, 1)\n"
     ]
    }
   ],
   "source": [
    "corners = [(11,4),(7,1),(8,4)]\n",
    "coor = (2,2)\n",
    "distances = []\n",
    "numCorners = len(corners)\n",
    "for x in range(numCorners):\n",
    "    distance = corners[x][0] + corners[x][1]\n",
    "    distances.append((distance,x))\n",
    "print(distances)\n",
    "print(min(distances))"
   ]
  },
  {
   "cell_type": "code",
   "execution_count": null,
   "metadata": {},
   "outputs": [],
   "source": []
  }
 ],
 "metadata": {
  "kernelspec": {
   "display_name": "Python 2",
   "language": "python",
   "name": "python2"
  },
  "language_info": {
   "codemirror_mode": {
    "name": "ipython",
    "version": 2
   },
   "file_extension": ".py",
   "mimetype": "text/x-python",
   "name": "python",
   "nbconvert_exporter": "python",
   "pygments_lexer": "ipython2",
   "version": "2.7.16"
  }
 },
 "nbformat": 4,
 "nbformat_minor": 2
}
